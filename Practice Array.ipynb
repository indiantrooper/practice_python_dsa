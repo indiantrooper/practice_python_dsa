{
 "cells": [
  {
   "cell_type": "code",
   "execution_count": 7,
   "metadata": {},
   "outputs": [],
   "source": [
    "import pandas as pd\n",
    "import numpy as np\n",
    "import matplotlib.pyplot as plt\n",
    "import seaborn as sb\n"
   ]
  },
  {
   "cell_type": "code",
   "execution_count": 2,
   "metadata": {},
   "outputs": [],
   "source": [
    "#Check if pair with given Sum exists in Array (Two Sum)\n",
    "inputArray = [1,2,3,4,5,7,6]\n",
    "def funcTwoSum(x,y):\n",
    "        if(type(y) == list or type(y) == tuple):\n",
    "            temp = len(y) \n",
    "        else:\n",
    "            print(\"Enter valid input\")\n",
    "        #Code to find a pair in list y which sums to x\n",
    "        for i in range(temp):\n",
    "            temp2 = x - y[i]\n",
    "            for j in range(temp):\n",
    "                if i==j:\n",
    "                    continue\n",
    "                else:\n",
    "                    if(y[j]==temp2):\n",
    "                        print(\"Yes\")\n",
    "                        return(1)\n",
    "        return(0)\n",
    "        "
   ]
  },
  {
   "cell_type": "code",
   "execution_count": 3,
   "metadata": {},
   "outputs": [
    {
     "name": "stdout",
     "output_type": "stream",
     "text": [
      "Yes\n"
     ]
    },
    {
     "data": {
      "text/plain": [
       "1"
      ]
     },
     "execution_count": 3,
     "metadata": {},
     "output_type": "execute_result"
    }
   ],
   "source": [
    "funcTwoSum(3,inputArray)"
   ]
  },
  {
   "cell_type": "code",
   "execution_count": 38,
   "metadata": {},
   "outputs": [
    {
     "name": "stdout",
     "output_type": "stream",
     "text": [
      "(0.4, 6.6) 15.6\n"
     ]
    }
   ],
   "source": [
    "#Best time to buy / sell a stock\n",
    "'''Given an array of time series of stock price; calculate\n",
    "    1. Maximum profit in the range when one transaction is allowed\n",
    "    2. Maximum profit in the range when multiple transactions are allowed\n",
    "'''\n",
    "price = [4,1,2,5,2,0.4,3,6,4,5,2,7,0.6] \n",
    "# Case 1: only one transaction is allowed\n",
    "def calcMaxprofit(price):\n",
    "    \n",
    "    entryPrice = price[0]\n",
    "    maxProfit = 0\n",
    "\n",
    "    for i in range(1,len(price)):\n",
    "        if(price[i]<entryPrice):\n",
    "            entryPrice = price[i]\n",
    "            #print(entryPrice)\n",
    "        else:\n",
    "            if(price[i]-entryPrice > maxProfit):\n",
    "                maxProfit = price[i]-entryPrice\n",
    "                #print(maxProfit)\n",
    "    return(entryPrice,maxProfit)\n",
    "\n",
    "# Case 2: multiple transactions are allowed. calculate total profit\n",
    "def calcTotalprofit(price):\n",
    "    entryPrice = price[0]\n",
    "    totalProfit = 0\n",
    "    maxProfit = 0\n",
    "    \n",
    "    for i in range(1,len(price)):\n",
    "        if((price[i]<entryPrice) or (price[i]<price[i-1])):\n",
    "            totalProfit +=maxProfit\n",
    "            maxProfit = 0\n",
    "            entryPrice=price[i]\n",
    "            #print(totalProfit)\n",
    "        else:\n",
    "            if(price[i]-entryPrice>maxProfit):\n",
    "                maxProfit = price[i]-entryPrice\n",
    "    totalProfit +=maxProfit\n",
    "    return(totalProfit)\n",
    "\n",
    "print(calcMaxprofit(price),calcTotalprofit(price))"
   ]
  },
  {
   "cell_type": "code",
   "execution_count": 94,
   "metadata": {},
   "outputs": [
    {
     "data": {
      "text/plain": [
       "[2, 1, 3, 6]"
      ]
     },
     "execution_count": 94,
     "metadata": {},
     "output_type": "execute_result"
    }
   ],
   "source": [
    "# Finding duplicate in an array: returns an array with duplicate elements\n",
    "inputArr1 = [2,1,1,4,1,3,1,3,6,6,5,7,9,0,2]\n",
    "def findDuplicate(x):\n",
    "    count = [1]*len(x)\n",
    "    dupl = []\n",
    "    for i in range(0,len(x)):\n",
    "        for j in range(i+1,len(x)):\n",
    "            if(x[i]==x[j]):\n",
    "                count[i]+=1\n",
    "    for k in range(0,len(count)):\n",
    "        if(count[k]==2):\n",
    "            dupl.append(x[k])\n",
    "    return(dupl)\n",
    "\n",
    "\n",
    "def find_duplicates(arr):\n",
    "    duplicates = []\n",
    "    n = len(arr)\n",
    "\t# First check all the values that are present in the array\n",
    "\t# then go to those values as indices and increment by the size of the array\n",
    "    for i in range(n):\n",
    "        index = arr[i] % n\n",
    "        arr[index] += n\n",
    "        print(arr[index])\n",
    "    # Now check which value exists more than once by dividing with the size of the array\n",
    "    for i in range(n):\n",
    "        if arr[i] // n >= 2:\n",
    "            duplicates.append(i)\n",
    "    \n",
    "    return duplicates\n",
    "\n",
    "\n",
    "findDuplicate(inputArr1)\n"
   ]
  },
  {
   "cell_type": "code",
   "execution_count": 61,
   "metadata": {},
   "outputs": [
    {
     "data": {
      "image/png": "[encoded data removed]",
      "text/plain": [
       "<Figure size 640x480 with 1 Axes>"
      ]
     },
     "metadata": {},
     "output_type": "display_data"
    },
    {
     "name": "stdout",
     "output_type": "stream",
     "text": [
      "1\n",
      "2\n",
      "4\n",
      "5\n",
      "6\n",
      "8\n",
      "9\n",
      "11\n",
      "Total water stored = 11 units\n"
     ]
    }
   ],
   "source": [
    "# Trapping rain water array problem\n",
    "rain = [0, 1, 0, 2, 1, 0, 1, 3, 2, 1, 2, 1,3]\n",
    "\n",
    "#plot how the containers will look like\n",
    "X_axis = np.arange(len(rain))\n",
    "plt.bar(X_axis,rain,width=1)\n",
    "plt.show()\n",
    "\n",
    "''' Water will be filled in white spaces between the bars. Eg. Water between bar1 and bar 3 will be 3+ (3-2) = 4 units and \n",
    "that between bar 3 and bar 6 will sum to (4-2)+(4-1) = 5. In total 9 units can be stored\n",
    "'''\n",
    "\n",
    "# Logic: If we calculate water[i] for i in index (array); water[i]= -array[i] + min(Left[i],right[i])\n",
    "# where Left[i] and right[i] are the highest bars on either side of the ith block\n",
    "n = len(rain)\n",
    "water = 0\n",
    "left =[0]*n\n",
    "left[1]=rain[0]\n",
    "right = [0]*n\n",
    "right[n-1]=0\n",
    "\n",
    "for i in range(2,n):\n",
    "    left[i]=max(left[i-1],rain[i-1])\n",
    "\n",
    "for j in range(n-2,0,-1):\n",
    "    right[j]=max(right[j+1],rain[j+1])\n",
    "\n",
    "for i in range(0,n):\n",
    "    if(min(left[i],right[i])-rain[i]>0):\n",
    "        water+=min(left[i],right[i])-rain[i]\n",
    "        print(water)\n",
    "\n",
    "print(\"Total water stored =\", water,\"units\")\n"
   ]
  },
  {
   "cell_type": "code",
   "execution_count": 225,
   "metadata": {},
   "outputs": [
    {
     "name": "stdout",
     "output_type": "stream",
     "text": [
      "6\n"
     ]
    },
    {
     "data": {
      "text/plain": [
       "[4, 2, 1]"
      ]
     },
     "execution_count": 225,
     "metadata": {},
     "output_type": "execute_result"
    }
   ],
   "source": [
    "# Maximum subarray (Kadane's algo)\n",
    "arr3 = [-2,1,-3,4,-1,2,1,-5,4]\n",
    "\n",
    "n=len(arr3)\n",
    "maxSum = 0\n",
    "out_subarray =[]\n",
    "\n",
    "#bruteforce O(N^2)\n",
    "for i in range(0,n-1):\n",
    "    temp = 0\n",
    "    for j in range(i,n-1):\n",
    "        temp += arr3[j]\n",
    "        if temp>maxSum:\n",
    "            maxSum=temp\n",
    "#print(\"Maximum sum =\",maxSum)\n",
    "\n",
    "#optimal solution O(N) - sliding window approach\n",
    "\n",
    "maxSub = arr3[0]\n",
    "curSum = 0\n",
    "subArr = []\n",
    "for num in arr3:\n",
    "    if curSum < 0:\n",
    "        curSum = 0\n",
    "        subArr = []\n",
    "    curSum += num\n",
    "    if maxSub<curSum:\n",
    "        maxSub = curSum\n",
    "        subArr.append(num)\n",
    "        \n",
    "print(maxSub)\n",
    "\n",
    "\n"
   ]
  },
  {
   "cell_type": "code",
   "execution_count": 90,
   "metadata": {},
   "outputs": [
    {
     "name": "stdout",
     "output_type": "stream",
     "text": [
      "240\n"
     ]
    }
   ],
   "source": [
    "##Maximum product sub array\n",
    "arr4 = [-2,-2,-3,10,4,0,122]\n",
    "maxProd = 1\n",
    "n = len(arr4)\n",
    "for i in range(0,n):\n",
    "    temp = 1\n",
    "    for j in range(i,n):\n",
    "        temp *= arr4[j]\n",
    "        if maxProd < temp:\n",
    "            maxProd = temp \n",
    "\n",
    "print(maxProd)\n",
    "\n",
    "#Optimal solution\n"
   ]
  },
  {
   "cell_type": "code",
   "execution_count": 138,
   "metadata": {},
   "outputs": [],
   "source": [
    "# Factorial of a large number\n",
    "\n",
    "import sys\n",
    " \n",
    "# This function finds factorial of large\n",
    "# numbers using array and prints them\n",
    " \n",
    " \n",
    "def largeFactorial(n):\n",
    "    res = [None]*500\n",
    "    # Initialize result\n",
    "    res[0] = 1\n",
    "    res_size = 1\n",
    " \n",
    "    # Apply simple factorial formula\n",
    "    # n! = 1 * 2 * 3 * 4...*n\n",
    "    x = 2\n",
    "    while x <= n:\n",
    "        res_size = multiply(x, res, res_size)\n",
    "        x = x + 1\n",
    " \n",
    "    print(\"Factorial of given number is\")\n",
    "    i = res_size-1\n",
    "    while i >= 0:\n",
    "        sys.stdout.write(str(res[i]))\n",
    "        sys.stdout.flush()\n",
    "        i = i - 1\n",
    " \n",
    " \n",
    "# This function multiplies x with the number\n",
    "# represented by res[]. res_size is size of res[]\n",
    "# or number of digits in the number represented\n",
    "# by res[]. This function uses simple school\n",
    "# mathematics for multiplication. This function\n",
    "# may value of res_size and returns the new value\n",
    "# of res_size\n",
    "def multiply(x, res, res_size):\n",
    " \n",
    "    carry = 0  # Initialize carry\n",
    " \n",
    "    # One by one multiply n with individual\n",
    "    # digits of res[]\n",
    "    i = 0\n",
    "    while i < res_size:\n",
    "        prod = res[i] * x + carry\n",
    "        res[i] = prod % 10  # Store last digit of\n",
    "        # 'prod' in res[]\n",
    "        # make sure floor division is used\n",
    "        carry = prod//10  # Put rest in carry\n",
    "        i = i + 1\n",
    " \n",
    "    # Put carry in res and increase result size\n",
    "    while (carry):\n",
    "        res[res_size] = carry % 10\n",
    "        # make sure floor division is used\n",
    "        # to avoid floating value\n",
    "        carry = carry // 10\n",
    "        res_size = res_size + 1\n",
    " \n",
    "    return res_size"
   ]
  },
  {
   "cell_type": "code",
   "execution_count": 140,
   "metadata": {},
   "outputs": [
    {
     "name": "stdout",
     "output_type": "stream",
     "text": [
      "Factorial of given number is\n",
      "8320987112741390144276341183223364380754172606361245952449277696409600000000000000"
     ]
    }
   ],
   "source": [
    "largeFactorial(60)"
   ]
  },
  {
   "cell_type": "code",
   "execution_count": 118,
   "metadata": {},
   "outputs": [
    {
     "name": "stdout",
     "output_type": "stream",
     "text": [
      "{'orange', 'banana', 'cherry', 'apple', 'kiwi'}\n",
      "{'kiwi2', 'orange', 'banana', 'cherry', 'apple', 'kiwi'}\n",
      "{'orange', 'banana', 'cherry', 'apple', 'kiwi'}\n",
      "{'orange', 'apple', 'avocado', 'banana', 'kiwi', 'cherry'}\n",
      "{'avocado', 'kiwi'}\n",
      "Symmetric difference: {'microsoft', 'google', 'banana', 'cherry'}\n"
     ]
    }
   ],
   "source": [
    "# Python set operations\n",
    "thisset = {\"apple\", \"banana\", \"cherry\"}\n",
    "mylist = [\"kiwi\", \"orange\"]\n",
    "newitem = \"kiwi2\"\n",
    "newset ={\"avocado\",\"kiwi\"}\n",
    "thisset.update(mylist)\n",
    "print(thisset)\n",
    "thisset.add(newitem)\n",
    "print(thisset)\n",
    "thisset.remove(newitem)\n",
    "print(thisset)\n",
    "thisset = thisset.union(newset)\n",
    "print(thisset)\n",
    "thisset.intersection_update(newset)\n",
    "print(thisset)\n",
    "\n",
    "x = {\"apple\", \"banana\", \"cherry\"}\n",
    "y = {\"google\", \"microsoft\", \"apple\"}\n",
    "\n",
    "x.symmetric_difference_update(y)\n",
    "\n",
    "print(\"Symmetric difference:\",x)"
   ]
  },
  {
   "cell_type": "code",
   "execution_count": 182,
   "metadata": {},
   "outputs": [
    {
     "name": "stdout",
     "output_type": "stream",
     "text": [
      "Max difference: 9\n",
      "Minimum difference = 2\n",
      "Distribution as follows\n",
      "9\n",
      "9\n",
      "10\n",
      "11\n"
     ]
    }
   ],
   "source": [
    "# Chocolate distribution problem\n",
    "'''\n",
    "Given an array of N integers where each value represents the number of chocolates in a packet. \n",
    "Each packet can have a variable number of chocolates. \n",
    "There are m students, the task is to distribute chocolate packets such that: \n",
    "1. Each student gets one packet.\n",
    "2. The difference between the number of chocolates in the packet with maximum chocolates and \n",
    "   the packet with minimum chocolates given to the students is minimum.\n",
    "'''\n",
    "\n",
    "inputArray = [5,3,6,2,4,10,11,7,9,9]\n",
    "m = 4 #input as number of students\n",
    "n = len(inputArray)\n",
    "\n",
    "temp = sorted(inputArray)\n",
    "\n",
    "minDiff=temp[n-1]-temp[0]\n",
    "print(\"Max difference:\",minDiff)\n",
    "\n",
    "j = 0\n",
    "for i in range(0,n-m+1):\n",
    "    if(temp[i+m-1]-temp[i]<minDiff):\n",
    "        minDiff = temp[i+m-1]-temp[i]\n",
    "        j = i\n",
    "    i+=1\n",
    "\n",
    "print(\"Minimum difference =\",minDiff)\n",
    "print(\"Distribution as follows\")\n",
    "for i in range(j,j+m):\n",
    "    print(temp[i])\n",
    "    i+=1\n"
   ]
  },
  {
   "cell_type": "code",
   "execution_count": 185,
   "metadata": {},
   "outputs": [
    {
     "name": "stdout",
     "output_type": "stream",
     "text": [
      "-2 -1 3\n",
      "-2 0 2\n",
      "-2 1 1\n",
      "-1 0 1\n"
     ]
    }
   ],
   "source": [
    "# Find all triplets with zero sum in an array\n",
    "# Given an array of distinct elements. The task is to find triplets in the array whose sum is zero.\n",
    "\n",
    "# function to print triplets with 0 sum\n",
    "\n",
    "def findTriplets(arr, n):\n",
    "    found = False\n",
    "    # sort array elements\n",
    "    arr.sort()\n",
    "    \n",
    "    for i in range(0, n-1):\n",
    "        # initialize left and right\n",
    "        l = i + 1\n",
    "        r = n - 1\n",
    "        x = arr[i]\n",
    "        while (l < r):\n",
    "            if (x + arr[l] + arr[r] == 0):\n",
    "                # print elements if it's sum is zero\n",
    "                print(x, arr[l], arr[r])\n",
    "                l += 1\n",
    "                r -= 1\n",
    "                found = True\n",
    "            # If sum of three elements is less\n",
    "            # than zero then increment in left\n",
    "            elif (x + arr[l] + arr[r] < 0):\n",
    "                l += 1\n",
    "            # if sum is greater than zero then\n",
    "            # decrement in right side\n",
    "            else:\n",
    "                r -= 1\n",
    "\n",
    "    if (found == False):\n",
    "        print(\" No Triplet Found\")\n",
    "\n",
    "inputArray = [0,1,2,-1,-2,3,1]\n",
    "findTriplets(inputArray,len(inputArray))"
   ]
  },
  {
   "cell_type": "code",
   "execution_count": 203,
   "metadata": {},
   "outputs": [
    {
     "data": {
      "text/html": [
       "<div>\n",
       "<style scoped>\n",
       "    .dataframe tbody tr th:only-of-type {\n",
       "        vertical-align: middle;\n",
       "    }\n",
       "\n",
       "    .dataframe tbody tr th {\n",
       "        vertical-align: top;\n",
       "    }\n",
       "\n",
       "    .dataframe thead th {\n",
       "        text-align: right;\n",
       "    }\n",
       "</style>\n",
       "<table border=\"1\" class=\"dataframe\">\n",
       "  <thead>\n",
       "    <tr style=\"text-align: right;\">\n",
       "      <th></th>\n",
       "      <th>col0</th>\n",
       "      <th>col1</th>\n",
       "    </tr>\n",
       "  </thead>\n",
       "  <tbody>\n",
       "    <tr>\n",
       "      <th>count</th>\n",
       "      <td>4.000000</td>\n",
       "      <td>4.000000</td>\n",
       "    </tr>\n",
       "    <tr>\n",
       "      <th>mean</th>\n",
       "      <td>2.500000</td>\n",
       "      <td>250.000000</td>\n",
       "    </tr>\n",
       "    <tr>\n",
       "      <th>std</th>\n",
       "      <td>1.290994</td>\n",
       "      <td>129.099445</td>\n",
       "    </tr>\n",
       "    <tr>\n",
       "      <th>min</th>\n",
       "      <td>1.000000</td>\n",
       "      <td>100.000000</td>\n",
       "    </tr>\n",
       "    <tr>\n",
       "      <th>25%</th>\n",
       "      <td>1.750000</td>\n",
       "      <td>175.000000</td>\n",
       "    </tr>\n",
       "    <tr>\n",
       "      <th>50%</th>\n",
       "      <td>2.500000</td>\n",
       "      <td>250.000000</td>\n",
       "    </tr>\n",
       "    <tr>\n",
       "      <th>75%</th>\n",
       "      <td>3.250000</td>\n",
       "      <td>325.000000</td>\n",
       "    </tr>\n",
       "    <tr>\n",
       "      <th>max</th>\n",
       "      <td>4.000000</td>\n",
       "      <td>400.000000</td>\n",
       "    </tr>\n",
       "  </tbody>\n",
       "</table>\n",
       "</div>"
      ],
      "text/plain": [
       "           col0        col1\n",
       "count  4.000000    4.000000\n",
       "mean   2.500000  250.000000\n",
       "std    1.290994  129.099445\n",
       "min    1.000000  100.000000\n",
       "25%    1.750000  175.000000\n",
       "50%    2.500000  250.000000\n",
       "75%    3.250000  325.000000\n",
       "max    4.000000  400.000000"
      ]
     },
     "execution_count": 203,
     "metadata": {},
     "output_type": "execute_result"
    }
   ],
   "source": [
    "#Pandas dataframe cheatsheet\n",
    "s3 = pd.Series({'Tom':1, 'Dick':4, 'Har':9})\n",
    "s4 = pd.Series({'Tom':3, 'Dick':2, 'Mar':5})\n",
    "df = pd.concat({'A':s3, 'B':s4 }, axis=1) \n",
    "df\n",
    "#dataframe from python dictionary\n",
    "# default --- assume data is in columns\n",
    "df = pd.DataFrame({\n",
    "'col0' : [1.0, 2.0, 3.0, 4.0],\n",
    "'col1' : [100, 200, 300, 400]\n",
    "}) \n",
    "\n",
    "df2 = df.describe()\n",
    "df2"
   ]
  },
  {
   "cell_type": "code",
   "execution_count": 248,
   "metadata": {},
   "outputs": [],
   "source": [
    "def pivotIndex(nums) -> int:\n",
    "        out = -1\n",
    "        left = 0\n",
    "        right = 0\n",
    "        n = len(nums)\n",
    "        for i in range(0,n):\n",
    "            left = 0\n",
    "            right = 0\n",
    "            for j in range(0,i):\n",
    "                left+=nums[j]\n",
    "            for k in range(i+1,n):\n",
    "                right+=nums[k]\n",
    "            print(i,left,right)\n",
    "            if left==right:\n",
    "                out = i\n",
    "                print(\"pivotIndex:\",i)\n",
    "            else:\n",
    "                left = right = 0\n",
    "        if out == -1:\n",
    "            print(\"No pivot index found\")"
   ]
  },
  {
   "cell_type": "code",
   "execution_count": 250,
   "metadata": {},
   "outputs": [
    {
     "name": "stdout",
     "output_type": "stream",
     "text": [
      "0 0 20\n",
      "1 1 17\n",
      "2 4 11\n",
      "3 10 6\n",
      "4 15 0\n",
      "No pivot index found\n"
     ]
    }
   ],
   "source": [
    "pivotIndex([1,3,6,5,6])"
   ]
  },
  {
   "cell_type": "code",
   "execution_count": 297,
   "metadata": {},
   "outputs": [],
   "source": [
    "def sumTwoArrays(arr1,arr2):\n",
    "    n1 = len(arr1)\n",
    "    n2 = len(arr2)\n",
    "    n = max(n1,n2)\n",
    "    outArr=[0]*(n+1)\n",
    "    carry = 0\n",
    "    temp1 = 0\n",
    "    temp2 = 0\n",
    "    for i in range(n-1,-1,-1):\n",
    "        if(n1>=n2):\n",
    "            temp1 = arr1[i]\n",
    "            if(i-n1+n2+1>0):\n",
    "                temp2 = arr2[i-(n1-n2)]\n",
    "            else:\n",
    "                temp2 = 0\n",
    "        else:\n",
    "            temp2 = arr2[i]\n",
    "            if(i-n2+n1+1>0):\n",
    "                temp1 = arr1[i-(n2-n1)]\n",
    "            else:\n",
    "                temp1 = 0\n",
    "        \n",
    "        temp = temp1+temp2+carry\n",
    "        \n",
    "        if(temp//10==0):\n",
    "            outArr[i+1] = temp\n",
    "            carry = 0\n",
    "        else:\n",
    "            outArr[i+1] = temp%10\n",
    "            carry = temp//10\n",
    "    \n",
    "    if (carry==0):\n",
    "        outArr.remove(0)\n",
    "    else:\n",
    "        outArr[0]=carry\n",
    "    return outArr"
   ]
  },
  {
   "cell_type": "code",
   "execution_count": 301,
   "metadata": {},
   "outputs": [
    {
     "data": {
      "text/plain": [
       "[1, 2, 3, 6, 1, 3, 3]"
      ]
     },
     "execution_count": 301,
     "metadata": {},
     "output_type": "execute_result"
    }
   ],
   "source": [
    "a = [1,5,6,7]\n",
    "b = [1,2,3,4,5,6,6]\n",
    "sumTwoArrays(b,a)\n"
   ]
  }
 ],
 "metadata": {
  "kernelspec": {
   "display_name": "Python 3",
   "language": "python",
   "name": "python3"
  },
  "language_info": {
   "codemirror_mode": {
    "name": "ipython",
    "version": 3
   },
   "file_extension": ".py",
   "mimetype": "text/x-python",
   "name": "python",
   "nbconvert_exporter": "python",
   "pygments_lexer": "ipython3",
   "version": "3.10.4"
  },
  "orig_nbformat": 4
 },
 "nbformat": 4,
 "nbformat_minor": 2
}
