{
 "cells": [
  {
   "cell_type": "code",
   "execution_count": 1,
   "metadata": {},
   "outputs": [],
   "source": [
    "import pandas as pd\n",
    "import numpy as np\n",
    "import matplotlib as plt\n",
    "import seaborn as sb\n"
   ]
  },
  {
   "cell_type": "code",
   "execution_count": 2,
   "metadata": {},
   "outputs": [],
   "source": [
    "#Check if pair with given Sum exists in Array (Two Sum)\n",
    "inputArray = [1,2,3,4,5,7,6]\n",
    "def funcTwoSum(x,y):\n",
    "        if(type(y) == list or type(y) == tuple):\n",
    "            temp = len(y) \n",
    "        else:\n",
    "            print(\"Enter valid input\")\n",
    "        #Code to find a pair in list y which sums to x\n",
    "        for i in range(temp):\n",
    "            temp2 = x - y[i]\n",
    "            for j in range(temp):\n",
    "                if i==j:\n",
    "                    continue\n",
    "                else:\n",
    "                    if(y[j]==temp2):\n",
    "                        print(\"Yes\")\n",
    "                        return(1)\n",
    "        return(0)\n",
    "        "
   ]
  },
  {
   "cell_type": "code",
   "execution_count": 3,
   "metadata": {},
   "outputs": [
    {
     "name": "stdout",
     "output_type": "stream",
     "text": [
      "Yes\n"
     ]
    },
    {
     "data": {
      "text/plain": [
       "1"
      ]
     },
     "execution_count": 3,
     "metadata": {},
     "output_type": "execute_result"
    }
   ],
   "source": [
    "funcTwoSum(3,inputArray)"
   ]
  },
  {
   "cell_type": "code",
   "execution_count": 38,
   "metadata": {},
   "outputs": [
    {
     "name": "stdout",
     "output_type": "stream",
     "text": [
      "(0.4, 6.6) 15.6\n"
     ]
    }
   ],
   "source": [
    "#Best time to buy / sell a stock\n",
    "'''Given an array of time series of stock price; calculate\n",
    "    1. Maximum profit in the range when one transaction is allowed\n",
    "    2. Maximum profit in the range when multiple transactions are allowed\n",
    "'''\n",
    "price = [4,1,2,5,2,0.4,3,6,4,5,2,7,0.6] \n",
    "# Case 1: only one transaction is allowed\n",
    "def calcMaxprofit(price):\n",
    "    \n",
    "    entryPrice = price[0]\n",
    "    maxProfit = 0\n",
    "\n",
    "    for i in range(1,len(price)):\n",
    "        if(price[i]<entryPrice):\n",
    "            entryPrice = price[i]\n",
    "            #print(entryPrice)\n",
    "        else:\n",
    "            if(price[i]-entryPrice > maxProfit):\n",
    "                maxProfit = price[i]-entryPrice\n",
    "                #print(maxProfit)\n",
    "    return(entryPrice,maxProfit)\n",
    "\n",
    "# Case 2: multiple transactions are allowed. calculate total profit\n",
    "def calcTotalprofit(price):\n",
    "    entryPrice = price[0]\n",
    "    totalProfit = 0\n",
    "    maxProfit = 0\n",
    "    \n",
    "    for i in range(1,len(price)):\n",
    "        if((price[i]<entryPrice) or (price[i]<price[i-1])):\n",
    "            totalProfit +=maxProfit\n",
    "            maxProfit = 0\n",
    "            entryPrice=price[i]\n",
    "            #print(totalProfit)\n",
    "        else:\n",
    "            if(price[i]-entryPrice>maxProfit):\n",
    "                maxProfit = price[i]-entryPrice\n",
    "    totalProfit +=maxProfit\n",
    "    return(totalProfit)\n",
    "\n",
    "print(calcMaxprofit(price),calcTotalprofit(price))"
   ]
  },
  {
   "cell_type": "code",
   "execution_count": 94,
   "metadata": {},
   "outputs": [
    {
     "data": {
      "text/plain": [
       "[2, 1, 3, 6]"
      ]
     },
     "execution_count": 94,
     "metadata": {},
     "output_type": "execute_result"
    }
   ],
   "source": [
    "# Finding duplicate in an array: returns an array with duplicate elements\n",
    "inputArr1 = [2,1,1,4,1,3,1,3,6,6,5,7,9,0,2]\n",
    "def findDuplicate(x):\n",
    "    count = [1]*len(x)\n",
    "    dupl = []\n",
    "    for i in range(0,len(x)):\n",
    "        for j in range(i+1,len(x)):\n",
    "            if(x[i]==x[j]):\n",
    "                count[i]+=1\n",
    "    for k in range(0,len(count)):\n",
    "        if(count[k]==2):\n",
    "            dupl.append(x[k])\n",
    "    return(dupl)\n",
    "\n",
    "\n",
    "def find_duplicates(arr):\n",
    "    duplicates = []\n",
    "    n = len(arr)\n",
    "\t# First check all the values that are present in the array\n",
    "\t# then go to those values as indices and increment by the size of the array\n",
    "    for i in range(n):\n",
    "        index = arr[i] % n\n",
    "        arr[index] += n\n",
    "        print(arr[index])\n",
    "    # Now check which value exists more than once by dividing with the size of the array\n",
    "    for i in range(n):\n",
    "        if arr[i] // n >= 2:\n",
    "            duplicates.append(i)\n",
    "    \n",
    "    return duplicates\n",
    "\n",
    "\n",
    "findDuplicate(inputArr1)\n"
   ]
  },
  {
   "cell_type": "code",
   "execution_count": 77,
   "metadata": {},
   "outputs": [
    {
     "data": {
      "text/plain": [
       "4"
      ]
     },
     "execution_count": 77,
     "metadata": {},
     "output_type": "execute_result"
    }
   ],
   "source": [
    "inputArr1[3] % len(inputArr1)"
   ]
  }
 ],
 "metadata": {
  "kernelspec": {
   "display_name": "Python 3",
   "language": "python",
   "name": "python3"
  },
  "language_info": {
   "codemirror_mode": {
    "name": "ipython",
    "version": 3
   },
   "file_extension": ".py",
   "mimetype": "text/x-python",
   "name": "python",
   "nbconvert_exporter": "python",
   "pygments_lexer": "ipython3",
   "version": "3.10.4"
  },
  "orig_nbformat": 4
 },
 "nbformat": 4,
 "nbformat_minor": 2
}
