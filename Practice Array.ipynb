{
 "cells": [
  {
   "cell_type": "code",
   "execution_count": 7,
   "metadata": {},
   "outputs": [],
   "source": [
    "import pandas as pd\n",
    "import numpy as np\n",
    "import matplotlib.pyplot as plt\n",
    "import seaborn as sb\n"
   ]
  },
  {
   "cell_type": "code",
   "execution_count": 2,
   "metadata": {},
   "outputs": [],
   "source": [
    "#Check if pair with given Sum exists in Array (Two Sum)\n",
    "inputArray = [1,2,3,4,5,7,6]\n",
    "def funcTwoSum(x,y):\n",
    "        if(type(y) == list or type(y) == tuple):\n",
    "            temp = len(y) \n",
    "        else:\n",
    "            print(\"Enter valid input\")\n",
    "        #Code to find a pair in list y which sums to x\n",
    "        for i in range(temp):\n",
    "            temp2 = x - y[i]\n",
    "            for j in range(temp):\n",
    "                if i==j:\n",
    "                    continue\n",
    "                else:\n",
    "                    if(y[j]==temp2):\n",
    "                        print(\"Yes\")\n",
    "                        return(1)\n",
    "        return(0)\n",
    "        "
   ]
  },
  {
   "cell_type": "code",
   "execution_count": 3,
   "metadata": {},
   "outputs": [
    {
     "name": "stdout",
     "output_type": "stream",
     "text": [
      "Yes\n"
     ]
    },
    {
     "data": {
      "text/plain": [
       "1"
      ]
     },
     "execution_count": 3,
     "metadata": {},
     "output_type": "execute_result"
    }
   ],
   "source": [
    "funcTwoSum(3,inputArray)"
   ]
  },
  {
   "cell_type": "code",
   "execution_count": 38,
   "metadata": {},
   "outputs": [
    {
     "name": "stdout",
     "output_type": "stream",
     "text": [
      "(0.4, 6.6) 15.6\n"
     ]
    }
   ],
   "source": [
    "#Best time to buy / sell a stock\n",
    "'''Given an array of time series of stock price; calculate\n",
    "    1. Maximum profit in the range when one transaction is allowed\n",
    "    2. Maximum profit in the range when multiple transactions are allowed\n",
    "'''\n",
    "price = [4,1,2,5,2,0.4,3,6,4,5,2,7,0.6] \n",
    "# Case 1: only one transaction is allowed\n",
    "def calcMaxprofit(price):\n",
    "    \n",
    "    entryPrice = price[0]\n",
    "    maxProfit = 0\n",
    "\n",
    "    for i in range(1,len(price)):\n",
    "        if(price[i]<entryPrice):\n",
    "            entryPrice = price[i]\n",
    "            #print(entryPrice)\n",
    "        else:\n",
    "            if(price[i]-entryPrice > maxProfit):\n",
    "                maxProfit = price[i]-entryPrice\n",
    "                #print(maxProfit)\n",
    "    return(entryPrice,maxProfit)\n",
    "\n",
    "# Case 2: multiple transactions are allowed. calculate total profit\n",
    "def calcTotalprofit(price):\n",
    "    entryPrice = price[0]\n",
    "    totalProfit = 0\n",
    "    maxProfit = 0\n",
    "    \n",
    "    for i in range(1,len(price)):\n",
    "        if((price[i]<entryPrice) or (price[i]<price[i-1])):\n",
    "            totalProfit +=maxProfit\n",
    "            maxProfit = 0\n",
    "            entryPrice=price[i]\n",
    "            #print(totalProfit)\n",
    "        else:\n",
    "            if(price[i]-entryPrice>maxProfit):\n",
    "                maxProfit = price[i]-entryPrice\n",
    "    totalProfit +=maxProfit\n",
    "    return(totalProfit)\n",
    "\n",
    "print(calcMaxprofit(price),calcTotalprofit(price))"
   ]
  },
  {
   "cell_type": "code",
   "execution_count": 94,
   "metadata": {},
   "outputs": [
    {
     "data": {
      "text/plain": [
       "[2, 1, 3, 6]"
      ]
     },
     "execution_count": 94,
     "metadata": {},
     "output_type": "execute_result"
    }
   ],
   "source": [
    "# Finding duplicate in an array: returns an array with duplicate elements\n",
    "inputArr1 = [2,1,1,4,1,3,1,3,6,6,5,7,9,0,2]\n",
    "def findDuplicate(x):\n",
    "    count = [1]*len(x)\n",
    "    dupl = []\n",
    "    for i in range(0,len(x)):\n",
    "        for j in range(i+1,len(x)):\n",
    "            if(x[i]==x[j]):\n",
    "                count[i]+=1\n",
    "    for k in range(0,len(count)):\n",
    "        if(count[k]==2):\n",
    "            dupl.append(x[k])\n",
    "    return(dupl)\n",
    "\n",
    "\n",
    "def find_duplicates(arr):\n",
    "    duplicates = []\n",
    "    n = len(arr)\n",
    "\t# First check all the values that are present in the array\n",
    "\t# then go to those values as indices and increment by the size of the array\n",
    "    for i in range(n):\n",
    "        index = arr[i] % n\n",
    "        arr[index] += n\n",
    "        print(arr[index])\n",
    "    # Now check which value exists more than once by dividing with the size of the array\n",
    "    for i in range(n):\n",
    "        if arr[i] // n >= 2:\n",
    "            duplicates.append(i)\n",
    "    \n",
    "    return duplicates\n",
    "\n",
    "\n",
    "findDuplicate(inputArr1)\n"
   ]
  },
  {
   "cell_type": "code",
   "execution_count": 59,
   "metadata": {},
   "outputs": [
    {
     "data": {
      "image/png": "[encoded data removed]",
      "text/plain": [
       "<Figure size 640x480 with 1 Axes>"
      ]
     },
     "metadata": {},
     "output_type": "display_data"
    },
    {
     "name": "stdout",
     "output_type": "stream",
     "text": [
      "3\n",
      "4\n",
      "7\n",
      "Total water stored = 7 units\n"
     ]
    }
   ],
   "source": [
    "# Trapping rain water array problem\n",
    "rain = [3,0,2,0,4]\n",
    "\n",
    "#plot how the containers will look like\n",
    "X_axis = np.arange(len(rain))\n",
    "plt.bar(X_axis,rain,width=1)\n",
    "plt.show()\n",
    "\n",
    "''' Water will be filled in white spaces between the bars. Eg. Water between bar1 and bar 3 will be 3+ (3-2) = 4 units and \n",
    "that between bar 3 and bar 6 will sum to (4-2)+(4-1) = 5. In total 9 units can be stored\n",
    "'''\n",
    "\n",
    "# Logic: If we calculate water[i] for i in index (array); water[i]= -array[i] + min(Left[i],right[i])\n",
    "# where Left[i] and right[i] are the highest bars on either side of the ith block\n",
    "n = len(rain)\n",
    "water = 0\n",
    "left =[0]*n\n",
    "left[1]=rain[0]\n",
    "right = [0]*n\n",
    "right[n-1]=0\n",
    "\n",
    "for i in range(2,n):\n",
    "    left[i]=max(left[i-1],rain[i-1])\n",
    "\n",
    "for j in range(n-2,0,-1):\n",
    "    right[j]=max(right[j+1],rain[j+1])\n",
    "\n",
    "for i in range(0,n):\n",
    "    if(min(left[i],right[i])-rain[i]>0):\n",
    "        water+=min(left[i],right[i])-rain[i]\n",
    "        print(water)\n",
    "\n",
    "print(\"Total water stored =\", water,\"units\")\n"
   ]
  }
 ],
 "metadata": {
  "kernelspec": {
   "display_name": "Python 3",
   "language": "python",
   "name": "python3"
  },
  "language_info": {
   "codemirror_mode": {
    "name": "ipython",
    "version": 3
   },
   "file_extension": ".py",
   "mimetype": "text/x-python",
   "name": "python",
   "nbconvert_exporter": "python",
   "pygments_lexer": "ipython3",
   "version": "3.10.4"
  },
  "orig_nbformat": 4
 },
 "nbformat": 4,
 "nbformat_minor": 2
}
